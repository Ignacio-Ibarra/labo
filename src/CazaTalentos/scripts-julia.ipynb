{
 "cells": [
  {
   "cell_type": "markdown",
   "id": "4b76313c-97b4-4005-9c51-77c51c241352",
   "metadata": {},
   "source": [
    "## zbasket_02"
   ]
  },
  {
   "cell_type": "code",
   "execution_count": 1,
   "id": "c47b2962-a956-49f6-8501-e84d5e185f64",
   "metadata": {},
   "outputs": [
    {
     "data": {
      "text/plain": [
       "ftirar (generic function with 1 method)"
      ]
     },
     "execution_count": 1,
     "metadata": {},
     "output_type": "execute_result"
    }
   ],
   "source": [
    "using Random\n",
    "\n",
    "Random.seed!(102191)\n",
    "\n",
    "#calcula cuantos encestes logra un jugador con indice de enceste prob\n",
    "#haciendo qyt tiros libres\n",
    "\n",
    "function ftirar(prob, qty)\n",
    "  return  sum( rand() < prob for i in 1:qty )\n",
    "end"
   ]
  },
  {
   "cell_type": "code",
   "execution_count": 2,
   "id": "4ae54171-db68-44eb-aee8-25b533c38836",
   "metadata": {},
   "outputs": [
    {
     "data": {
      "text/plain": [
       "100-element Array{Float64,1}:\n",
       " 0.7\n",
       " 0.501\n",
       " 0.502\n",
       " 0.503\n",
       " 0.504\n",
       " 0.505\n",
       " 0.506\n",
       " 0.507\n",
       " 0.508\n",
       " 0.509\n",
       " 0.51\n",
       " 0.511\n",
       " 0.512\n",
       " ⋮\n",
       " 0.588\n",
       " 0.589\n",
       " 0.59\n",
       " 0.591\n",
       " 0.592\n",
       " 0.593\n",
       " 0.594\n",
       " 0.595\n",
       " 0.596\n",
       " 0.597\n",
       " 0.598\n",
       " 0.599"
      ]
     },
     "execution_count": 2,
     "metadata": {},
     "output_type": "execute_result"
    }
   ],
   "source": [
    "#defino los jugadores\n",
    "mejor     = [0.7]\n",
    "peloton   = Vector((501:599) / 1000)\n",
    "jugadores = append!( mejor, peloton)\n",
    "\n",
    "#veo que tiene el vector\n",
    "jugadores"
   ]
  },
  {
   "cell_type": "code",
   "execution_count": 3,
   "id": "0ff83728-8e33-472e-8b24-21626b37e8ec",
   "metadata": {},
   "outputs": [
    {
     "name": "stdout",
     "output_type": "stream",
     "text": [
      "1341"
     ]
    }
   ],
   "source": [
    "#hago que los 100 jugadores tiren 10 veces cada uno\n",
    "res = ftirar.( jugadores, 10 )\n",
    "\n",
    "primero_ganador = 0\n",
    "\n",
    "for i = 1:10000  #diez mil experimentos\n",
    "  vaciertos = ftirar.(jugadores, 10)  #10 tiros libres cada jugador\n",
    "  mejor = findmax( vaciertos )\n",
    "\n",
    "  if mejor[2] == 1\n",
    "      primero_ganador += 1\n",
    "  end\n",
    "end\n",
    "\n",
    "print( primero_ganador )"
   ]
  },
  {
   "cell_type": "markdown",
   "id": "5fd7ae4e-1d98-43f5-913f-3605a561dd6d",
   "metadata": {},
   "source": [
    "## zbasket_03"
   ]
  },
  {
   "cell_type": "code",
   "execution_count": 5,
   "id": "2ad6c688-7007-4dff-9045-5f237396c087",
   "metadata": {},
   "outputs": [
    {
     "data": {
      "text/plain": [
       "100-element Array{Float64,1}:\n",
       " 0.7\n",
       " 0.501\n",
       " 0.502\n",
       " 0.503\n",
       " 0.504\n",
       " 0.505\n",
       " 0.506\n",
       " 0.507\n",
       " 0.508\n",
       " 0.509\n",
       " 0.51\n",
       " 0.511\n",
       " 0.512\n",
       " ⋮\n",
       " 0.588\n",
       " 0.589\n",
       " 0.59\n",
       " 0.591\n",
       " 0.592\n",
       " 0.593\n",
       " 0.594\n",
       " 0.595\n",
       " 0.596\n",
       " 0.597\n",
       " 0.598\n",
       " 0.599"
      ]
     },
     "execution_count": 5,
     "metadata": {},
     "output_type": "execute_result"
    }
   ],
   "source": [
    "using Random\n",
    "\n",
    "Random.seed!(102191)\n",
    "\n",
    "#calcula cuantos encestes logra un jugador con indice de enceste prob\n",
    "#que hace qyt tiros libres\n",
    "\n",
    "function ftirar(prob, qty)\n",
    "  return  sum(rand() < prob for i in 1:qty)\n",
    "end\n",
    "\n",
    "\n",
    "#defino los jugadores\n",
    "mejor = [0.7]\n",
    "peloton = Vector((501:599) / 1000)\n",
    "jugadores = append!(mejor, peloton)\n",
    "\n",
    "#veo que tiene el vector\n",
    "jugadores"
   ]
  },
  {
   "cell_type": "code",
   "execution_count": 6,
   "id": "54f9ca91-6482-4ed3-a887-1a7d553b209d",
   "metadata": {},
   "outputs": [
    {
     "name": "stdout",
     "output_type": "stream",
     "text": [
      "9\t6\n",
      "10\t4\n",
      "9\t4\n",
      "9\t4\n",
      "9\t6\n",
      "9\t9\n",
      "9\t5\n",
      "10\t6\n",
      "10\t7\n",
      "9\t6\n"
     ]
    }
   ],
   "source": [
    "for i = 1:10\n",
    "  vaciertos = ftirar.(jugadores, 10)  #10 tiros libres cada jugador\n",
    "  mejor = findmax(vaciertos)[2]\n",
    "  aciertos_torneo = vaciertos[ mejor ]\n",
    "\n",
    "  aciertos_segunda = ftirar.(jugadores[ mejor ], 10)\n",
    "\n",
    "  println(aciertos_torneo, \"\\t\", aciertos_segunda)\n",
    "end"
   ]
  },
  {
   "cell_type": "markdown",
   "id": "2cc81679-2c08-42a0-9989-141b1d636db5",
   "metadata": {},
   "source": [
    "## zbasket_04"
   ]
  },
  {
   "cell_type": "code",
   "execution_count": 7,
   "id": "d5d734b5-95c5-4cd3-920f-d07a535576a1",
   "metadata": {},
   "outputs": [
    {
     "data": {
      "text/plain": [
       "100-element Array{Float64,1}:\n",
       " 0.7\n",
       " 0.7\n",
       " 0.7\n",
       " 0.7\n",
       " 0.7\n",
       " 0.7\n",
       " 0.7\n",
       " 0.7\n",
       " 0.7\n",
       " 0.7\n",
       " 0.7\n",
       " 0.7\n",
       " 0.7\n",
       " ⋮\n",
       " 0.7\n",
       " 0.7\n",
       " 0.7\n",
       " 0.7\n",
       " 0.7\n",
       " 0.7\n",
       " 0.7\n",
       " 0.7\n",
       " 0.7\n",
       " 0.7\n",
       " 0.7\n",
       " 0.7"
      ]
     },
     "execution_count": 7,
     "metadata": {},
     "output_type": "execute_result"
    }
   ],
   "source": [
    "using Random\n",
    "\n",
    "Random.seed!(102191)\n",
    "\n",
    "#calcula cuantos encestes logra un jugador con indice de enceste prob\n",
    "#que hace qyt tiros libres\n",
    "\n",
    "function ftirar(prob, qty)\n",
    "  return  sum( rand() < prob for i in 1:qty )\n",
    "end\n",
    "\n",
    "\n",
    "#defino los jugadores\n",
    "jugadores = fill( 0.7, 100 )"
   ]
  },
  {
   "cell_type": "code",
   "execution_count": 8,
   "id": "c34be04d-5fd4-48e9-9d6e-096fab1ed44a",
   "metadata": {},
   "outputs": [
    {
     "name": "stdout",
     "output_type": "stream",
     "text": [
      "82\t72\n",
      "80\t71\n",
      "80\t69\n",
      "80\t73\n",
      "80\t74\n",
      "81\t65\n",
      "86\t69\n",
      "81\t64\n",
      "81\t72\n",
      "82\t66\n"
     ]
    }
   ],
   "source": [
    "for i = 1:10\n",
    "  vaciertos = ftirar.(jugadores, 100)  #10 tiros libres cada jugador\n",
    "  mejor = findmax( vaciertos )[2]\n",
    "  aciertos_torneo = vaciertos[ mejor ] \n",
    "\n",
    "  aciertos_segunda = ftirar.( jugadores[ mejor ], 100 )\n",
    "\n",
    "  println( aciertos_torneo, \"\\t\", aciertos_segunda)\n",
    "end\n"
   ]
  },
  {
   "cell_type": "markdown",
   "id": "c6ef1606-df63-48df-9ca7-8da50f6fc4f6",
   "metadata": {},
   "source": [
    "## zbasket_05"
   ]
  },
  {
   "cell_type": "code",
   "execution_count": 9,
   "id": "a0ed0194-9ccd-4260-9cd4-3451a0caae49",
   "metadata": {},
   "outputs": [
    {
     "data": {
      "text/plain": [
       "100-element Array{Float64,1}:\n",
       " 0.7\n",
       " 0.7\n",
       " 0.7\n",
       " 0.7\n",
       " 0.7\n",
       " 0.7\n",
       " 0.7\n",
       " 0.7\n",
       " 0.7\n",
       " 0.7\n",
       " 0.7\n",
       " 0.7\n",
       " 0.7\n",
       " ⋮\n",
       " 0.7\n",
       " 0.7\n",
       " 0.7\n",
       " 0.7\n",
       " 0.7\n",
       " 0.7\n",
       " 0.7\n",
       " 0.7\n",
       " 0.7\n",
       " 0.7\n",
       " 0.7\n",
       " 0.7"
      ]
     },
     "execution_count": 9,
     "metadata": {},
     "output_type": "execute_result"
    }
   ],
   "source": [
    "using Random\n",
    "\n",
    "Random.seed!(102191)\n",
    "\n",
    "#calcula cuantos encestes logra un jugador con indice de enceste prob\n",
    "#que hace qyt tiros libres\n",
    "\n",
    "function ftirar(prob, qty)\n",
    "  return  sum( rand() < prob for i in 1:qty )\n",
    "end\n",
    "\n",
    "\n",
    "#defino los jugadores\n",
    "jugadores = fill( 0.7, 100 )\n"
   ]
  },
  {
   "cell_type": "code",
   "execution_count": 10,
   "id": "64585a62-f4e2-42f8-abe9-a337bda1a086",
   "metadata": {},
   "outputs": [
    {
     "name": "stdout",
     "output_type": "stream",
     "text": [
      "10.9941\n"
     ]
    }
   ],
   "source": [
    "suma_diferencias = 0\n",
    "\n",
    "for i = 1:10000\n",
    "  vaciertos = ftirar.(jugadores, 100)  #10 tiros libres cada jugador\n",
    "  mejor = findmax( vaciertos )[2]\n",
    "  aciertos_torneo = vaciertos[ mejor ] \n",
    "\n",
    "  aciertos_segunda = ftirar.( jugadores[ mejor ], 100 )\n",
    "\n",
    "  suma_diferencias += ( aciertos_torneo - aciertos_segunda )\n",
    "end\n",
    "\n",
    "println(  suma_diferencias/10000 )"
   ]
  },
  {
   "cell_type": "markdown",
   "id": "51ff243d-27df-414f-ba35-2566aca96264",
   "metadata": {},
   "source": [
    "## zbasket_06"
   ]
  },
  {
   "cell_type": "code",
   "execution_count": 11,
   "id": "c1027704-70b7-414f-bef6-5c70acd9506d",
   "metadata": {},
   "outputs": [
    {
     "name": "stdout",
     "output_type": "stream",
     "text": [
      "84\t86\n",
      "83\t84\n",
      "85\t84\n",
      "81\t71\n",
      "87\t88\n",
      "88\t85\n",
      "84\t84\n",
      "82\t87\n",
      "83\t73\n",
      "92\t86\n"
     ]
    }
   ],
   "source": [
    "#defino los jugadores\n",
    "jordan = [ 0.85]\n",
    "peloton = fill( 0.7, 100 )\n",
    "jugadores = append!(jordan, peloton )\n",
    "\n",
    "for i = 1:10\n",
    "  vaciertos = ftirar.(jugadores, 100)  #10 tiros libres cada jugador\n",
    "  mejor = findmax( vaciertos )[2]\n",
    "  aciertos_torneo = vaciertos[ mejor ]\n",
    "\n",
    "  aciertos_segunda = ftirar.( jugadores[ mejor ], 100 )\n",
    "\n",
    "  println( aciertos_torneo, \"\\t\", aciertos_segunda)\n",
    "end"
   ]
  },
  {
   "cell_type": "markdown",
   "id": "6667e0fd-8bed-4d96-89e4-341c536cfb10",
   "metadata": {},
   "source": [
    "## zbasket_07"
   ]
  },
  {
   "cell_type": "code",
   "execution_count": 13,
   "id": "20bd104f-109f-40f7-9e5c-2c015c9e178b",
   "metadata": {},
   "outputs": [
    {
     "name": "stdout",
     "output_type": "stream",
     "text": [
      "10\t0.0295\n",
      "20\t0.0927\n",
      "50\t0.2697\n",
      "100\t0.5491\n",
      "200\t0.8581\n",
      "300\t0.9585\n",
      "400\t0.9861\n",
      "415\t0.9908\n",
      "500\t0.9968\n",
      "600\t0.9994\n",
      "700\t1.0\n",
      "1000\t0.9999\n"
     ]
    }
   ],
   "source": [
    "#defino los jugadores\n",
    "mejor   = [0.7]\n",
    "peloton = Vector((501:599) / 1000)\n",
    "jugadores = append!(peloton, mejor) #intencionalmente el mejor esta al final\n",
    "\n",
    "for tiros_libres in [ 10, 20, 50, 100, 200, 300, 400, 415, 500, 600, 700, 1000 ]\n",
    "\n",
    "  primero_ganador = 0\n",
    "\n",
    "  for  i in  1:10000\n",
    "    vaciertos = ftirar.(jugadores, tiros_libres)\n",
    "    mejor = findmax( vaciertos )[2]\n",
    "    if mejor == 100   primero_ganador += 1   end\n",
    "  end\n",
    "\n",
    "  println( tiros_libres,  \"\\t\", primero_ganador/10000 )\n",
    "end"
   ]
  },
  {
   "cell_type": "markdown",
   "id": "06b8d185-0ce8-422d-ae25-b9fd101f2ff6",
   "metadata": {},
   "source": [
    "## zbasket_07_fast"
   ]
  },
  {
   "cell_type": "code",
   "execution_count": 12,
   "id": "c6c64515-6a17-47e5-9226-3d9f15b9a170",
   "metadata": {},
   "outputs": [
    {
     "name": "stdout",
     "output_type": "stream",
     "text": [
      "10\t0.0298\n",
      "20\t0.0882\n",
      "50\t0.2695\n",
      "100\t0.5528\n",
      "200\t0.8572\n",
      "300\t0.9609\n",
      "400\t0.9888\n",
      "415\t0.9908\n",
      "500\t0.997\n",
      "600\t0.9996\n",
      "700\t0.9996\n",
      "1000\t1.0\n",
      " 30.496661 seconds (772.23 k allocations: 124.543 MiB, 0.07% gc time)\n"
     ]
    }
   ],
   "source": [
    "#intencionalmente el mejor jugador va al final de la lista de jugadores\n",
    "#porque la funcion findmax() de Julia hace trampa\n",
    "#si hay un empate ( dos máximos) se queda con el que esta primero en el vector\n",
    "using Random\n",
    "\n",
    "Random.seed!(102191)\n",
    "\n",
    "function ftirar(prob, qty)\n",
    "  return  sum( rand() < prob for i in 1:qty )\n",
    "end\n",
    "\n",
    "\n",
    "#defino los jugadores\n",
    "mejor   = [0.7]\n",
    "peloton = Vector((501:599) / 1000)\n",
    "jugadores = append!(peloton, mejor) #intencionalmente el mejor esta al final\n",
    "\n",
    "\n",
    "function  explorar()\n",
    "\n",
    "  for tiros_libres in [ 10, 20, 50, 100, 200, 300, 400, 415, 500, 600, 700, 1000 ]\n",
    "\n",
    "    primero_ganador = 0\n",
    "\n",
    "    for  i in  1:10000\n",
    "      vaciertos = ftirar.(jugadores, tiros_libres)\n",
    "      mejor = findmax( vaciertos )[2]\n",
    "\n",
    "      if mejor == 100   primero_ganador += 1  end\n",
    "    end\n",
    "\n",
    "    println( tiros_libres,  \"\\t\", primero_ganador/10000 )\n",
    "  end\n",
    "end\n",
    "\n",
    "\n",
    "@time  explorar()"
   ]
  }
 ],
 "metadata": {
  "kernelspec": {
   "display_name": "Julia 1.4.1",
   "language": "julia",
   "name": "julia-1.4"
  },
  "language_info": {
   "file_extension": ".jl",
   "mimetype": "application/julia",
   "name": "julia",
   "version": "1.4.1"
  }
 },
 "nbformat": 4,
 "nbformat_minor": 5
}
